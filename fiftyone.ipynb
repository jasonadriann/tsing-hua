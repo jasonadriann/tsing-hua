{
 "cells": [
  {
   "cell_type": "code",
   "execution_count": null,
   "metadata": {},
   "outputs": [],
   "source": [
    "import fiftyone as fo\n",
    "import fiftyone.zoo as foz"
   ]
  },
  {
   "cell_type": "code",
   "execution_count": null,
   "metadata": {},
   "outputs": [],
   "source": [
    "dataset = foz.load_zoo_dataset(\n",
    "    \"open-images-v6\", \n",
    "    \"validation\", \n",
    "    label_types=[\"detections\", \"classifications\"], \n",
    "    classes = [\"Dog\", \"Cat\"],\n",
    "    max_samples=1000,\n",
    "    seed=51,\n",
    "    shuffle=True,\n",
    "    dataset_name=\"open-images-dog-cat\",\n",
    ")\n",
    "\n",
    "session = fo.launch_app(dataset)"
   ]
  },
  {
   "cell_type": "code",
   "execution_count": null,
   "metadata": {},
   "outputs": [],
   "source": [
    "results = fo.evaluate_detections(\n",
    "    dataset,\n",
    "    pred_field=\"predictions\",\n",
    "    gt_field=\"detections\",\n",
    "    pos_label_field=\"positive_labels\",\n",
    "    neg_label_field=\"negative_labels\",\n",
    "    hierarchy = dataset.info[\"hierarchy\"],\n",
    "    method = \"open-images\",\n",
    "    expand_pred_hierarchy=True,\n",
    ")"
   ]
  }
 ],
 "metadata": {
  "kernelspec": {
   "display_name": "base",
   "language": "python",
   "name": "python3"
  },
  "language_info": {
   "codemirror_mode": {
    "name": "ipython",
    "version": 3
   },
   "file_extension": ".py",
   "mimetype": "text/x-python",
   "name": "python",
   "nbconvert_exporter": "python",
   "pygments_lexer": "ipython3",
   "version": "3.9.13"
  },
  "orig_nbformat": 4
 },
 "nbformat": 4,
 "nbformat_minor": 2
}
